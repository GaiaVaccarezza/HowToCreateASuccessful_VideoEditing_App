{
  "nbformat": 4,
  "nbformat_minor": 0,
  "metadata": {
    "colab": {
      "provenance": []
    },
    "kernelspec": {
      "name": "python3",
      "display_name": "Python 3"
    },
    "language_info": {
      "name": "python"
    }
  },
  "cells": [
    {
      "cell_type": "markdown",
      "source": [
        "# DATA COLLECTION"
      ],
      "metadata": {
        "id": "VJkgqRewN_m4"
      }
    },
    {
      "cell_type": "markdown",
      "source": [
        "## INSTALL PACKAGE\n"
      ],
      "metadata": {
        "id": "5N_SM2KknNlG"
      }
    },
    {
      "cell_type": "code",
      "source": [
        "pip install google-play-scraper"
      ],
      "metadata": {
        "id": "jO785RgbnVoA"
      },
      "execution_count": null,
      "outputs": []
    },
    {
      "cell_type": "code",
      "source": [
        "pip install app-store-scraper"
      ],
      "metadata": {
        "id": "9TKwy4kdnX-B"
      },
      "execution_count": null,
      "outputs": []
    },
    {
      "cell_type": "code",
      "source": [
        "pip install azure-ai-textanalytics"
      ],
      "metadata": {
        "id": "GP0-5SelnYZm"
      },
      "execution_count": null,
      "outputs": []
    },
    {
      "cell_type": "code",
      "source": [
        "pip install -q transformers"
      ],
      "metadata": {
        "id": "WDW28rz0nbZH"
      },
      "execution_count": null,
      "outputs": []
    },
    {
      "cell_type": "code",
      "source": [
        " pip install emoji==0.6.0"
      ],
      "metadata": {
        "id": "jOHZvGrmnchh"
      },
      "execution_count": null,
      "outputs": []
    },
    {
      "cell_type": "code",
      "source": [
        "import pandas as pd\n",
        "import numpy as np\n",
        "import matplotlib.pyplot as plt\n",
        "from google_play_scraper import app\n",
        "from google_play_scraper import reviews_all, Sort, reviews\n",
        "from app_store_scraper import AppStore\n",
        "import sys"
      ],
      "metadata": {
        "id": "v6gMEOz6ndYV"
      },
      "execution_count": null,
      "outputs": []
    },
    {
      "cell_type": "markdown",
      "source": [
        "##GOOGLE SCRAPING"
      ],
      "metadata": {
        "id": "2wl0ldRIoMst"
      }
    },
    {
      "cell_type": "code",
      "source": [
        "#divide in subset to reduce the probability of the function crashing after already scraped a lot of apps\n",
        "#19\n",
        "google_apps  = [\"com.camerasideas.instashot\", \"com.splice.video.editor\", \"com.lemon.lvoverseas\", \"com.quvideo.xiaoying\", \"com.lightricks.videoleap\", \"com.filmrapp.videoeditor\", \"com.MovieMakerApps.Clips.VideoMaker\", \"video.mojo\",\n",
        "                \"com.videoeditorstar.starmakervideo\", \"com.adobe.premiererush.videoeditor\", \"com.movavi.mobile.movaviclips\", \"com.cyberlink.powerdirector.DRA140225_01\", \"com.wevideo.mobile.chromeos\", \"com.nexstreaming.app.kinemasterfree\",\n",
        "                \"com.magisto\", \"com.flambestudios.picplaypost\", \"com.snowcorp.vita\", \"com.vsco.cam\", \"com.alightcreative.motion\"]\n",
        "\n",
        "#23\n",
        "google_apps  = [\"com.cateater.stopmotionstudiopro\" , \"com.canva.editor\" , \"com.adobe.lrmobile\", \"com.lightricks.facetune.free\" , \"com.adobe.psmobile\", \"com.lensa.app\", \"com.frontrow.vlog\" ,\n",
        "\"io.instories\", \"me.bazaart.app\", \"com.videoeditorpro.android\", \"com.wondershare.filmorago\", \"com.linecorp.b612.android\", \"com.avcrbt.funimate\" , \"com.moonlab.unfold\",\n",
        "\"com.apowersoft.lightmv\", \"com.mobivio.android.cutecut\", \"com.vfxeditor.android\", \"co.triller.droid\", \"com.nexstreaming.app.kinemasterfree\", \"com.cerdillac.animatedstorymaker\",\n",
        "\"com.ryzenrise.storyart\", \"art.clay\", \"com.planoly.storiesedit\"]\n",
        "\n",
        "#16\n",
        "google_apps  = [\"com.wotoapp.reelsy\", \"com.cyberlink.addirector\", \"com.reelsmaker.videostatus.storymaker.videomaker\", \"com.storyinstagram.storyeditor\",\n",
        "\"com.framy.placey\", \"com.neurondigital.pinreel\", \"trimmer.story.com.storytrimmer\",\"com.darinsoft.vimo\", \"com.renderforest.videomaker\", \"com.cyberlink.actiondirector\", \"com.picsart.studio\", \"com.jsdev.instasize\", \"com.prequel.app\", \"videoeditor.videomaker.videoeditorforyoutube\", \"com.olimsoft.android.oplayer.pro\", \"com.vivashow.share.video.chat\"]\n",
        "\n",
        "#3\n",
        "google_apps = ['com.wevideo.mobile.android', \"com.real.RealPlayerCloud\" , \"video.filter.effects\"]"
      ],
      "metadata": {
        "id": "ZHu-iIF5oPM9"
      },
      "execution_count": null,
      "outputs": []
    },
    {
      "cell_type": "markdown",
      "source": [
        "### INFO FOR EACH APP"
      ],
      "metadata": {
        "id": "AxVcbYR9QtcT"
      }
    },
    {
      "cell_type": "code",
      "source": [
        "g_app_infos = []\n",
        "for ap in google_apps:\n",
        "  info = app(ap, lang='en', country='us')\n",
        "  del info['comments']\n",
        "  g_app_infos.append(info)"
      ],
      "metadata": {
        "id": "ncdEe2sKoL6a"
      },
      "execution_count": null,
      "outputs": []
    },
    {
      "cell_type": "code",
      "source": [
        "g_app_infos_df = pd.DataFrame(g_app_infos)\n",
        "g_app_infos_df.head(5)"
      ],
      "metadata": {
        "id": "UMHhqzNqoYVa"
      },
      "execution_count": null,
      "outputs": []
    },
    {
      "cell_type": "code",
      "source": [
        "from google.colab import files\n",
        "g_app_infos_df.to_csv('apps.csv', index=None, header=True) #apps1.csv #'apps2.csv' #'apps3.csv'\n",
        "files.download('apps.csv')"
      ],
      "metadata": {
        "id": "iEuc0Osgob7q"
      },
      "execution_count": null,
      "outputs": []
    },
    {
      "cell_type": "code",
      "source": [
        "g_app_infos_df.columns"
      ],
      "metadata": {
        "id": "gGpDBpuqor_H"
      },
      "execution_count": null,
      "outputs": []
    },
    {
      "cell_type": "markdown",
      "source": [
        "### REVIEWS FOR EACH APP"
      ],
      "metadata": {
        "id": "w48GbSiZQzbW"
      }
    },
    {
      "cell_type": "code",
      "source": [
        "rev, _ = reviews(google_apps[0], lang=\"en\", country=\"us\", sort = Sort.NEWEST,count = 200)\n",
        "df_reviews0 = pd.DataFrame(np.array(rev), columns = [\"reviews\"])\n",
        "df_reviews0 = df_reviews0.join(pd.DataFrame(df_reviews0.pop(\"reviews\").tolist()))\n",
        "df_reviews0[\"app_name\"]  = google_apps[0]\n",
        "\n",
        "for i in google_apps[1:]:\n",
        "  rev, _ = reviews(\n",
        "    i,\n",
        "    lang=\"en\",\n",
        "    country=\"us\",\n",
        "    sort = Sort.NEWEST,\n",
        "    count = 200)\n",
        "  df_reviews = pd.DataFrame(np.array(rev), columns = [\"reviews\"])\n",
        "  df_reviews = df_reviews.join(pd.DataFrame(df_reviews.pop(\"reviews\").tolist()))\n",
        "  df_reviews[\"app_name\"] = i\n",
        "  df_reviews0 = df_reviews0.append(df_reviews, ignore_index=True)"
      ],
      "metadata": {
        "id": "wTjW2eK2odee"
      },
      "execution_count": null,
      "outputs": []
    },
    {
      "cell_type": "code",
      "source": [
        " from google.colab import files\n",
        " df_reviews0.to_csv('google_reviews_19_1000.csv', index=None, header=True) #google_reviews_23_200.csv #'google_reviews_16_200.csv' 'app_reviews_4_200.csv'\n",
        " files.download('google_reviews_19_1000.csv')"
      ],
      "metadata": {
        "id": "zzOD791_ovVH"
      },
      "execution_count": null,
      "outputs": []
    },
    {
      "cell_type": "code",
      "source": [
        "from google.colab import files\n",
        "up = files.upload()\n",
        "import io\n",
        "g_df  = pd.read_csv(io.BytesIO(up['google_reviews_19_1000.csv'])) #google_reviews_23_200.csv #'google_reviews_16_200.csv' 'app_reviews_4_200.csv'\n",
        "\n",
        "g_df.head(10)"
      ],
      "metadata": {
        "id": "UfqnT8TNox7-"
      },
      "execution_count": null,
      "outputs": []
    },
    {
      "cell_type": "code",
      "source": [
        "g_df[\"score\"].value_counts() #n of reviews per score (1 to 5)"
      ],
      "metadata": {
        "id": "8Jv9rrbTo0aS"
      },
      "execution_count": null,
      "outputs": []
    },
    {
      "cell_type": "code",
      "source": [
        "g_df[\"app_name\"].value_counts() #n of reviews per app"
      ],
      "metadata": {
        "id": "fcDb9MfdsQhu"
      },
      "execution_count": null,
      "outputs": []
    },
    {
      "cell_type": "code",
      "source": [
        "#merge reviews with info"
      ],
      "metadata": {
        "id": "sdJqfVSjsj60"
      },
      "execution_count": null,
      "outputs": []
    },
    {
      "cell_type": "code",
      "source": [
        "g_tot = pd.merge(g_df, apps_info, left_on = \"app_name\", right_on=\"appId\")"
      ],
      "metadata": {
        "id": "25rb1oCZso2k"
      },
      "execution_count": null,
      "outputs": []
    },
    {
      "cell_type": "code",
      "source": [
        "g_tot[\"google_play\"]= 1"
      ],
      "metadata": {
        "id": "RPhvzJ0Cw_ja"
      },
      "execution_count": null,
      "outputs": []
    },
    {
      "cell_type": "markdown",
      "source": [
        "##APPLE STORE SCRAPING"
      ],
      "metadata": {
        "id": "vG0hYpDKrtyc"
      }
    },
    {
      "cell_type": "code",
      "source": [
        " #divide in subset to reduce the probability of the function crashing after already scraped a lot of apps\n",
        " #18\n",
        "apple_apps_n = [\"inshot-video-editor\", \"splice-video-editor-maker\", \"capcut-video-editor\", \"vivavideo-video-editor-maker\", \"videoleap-video-editor-maker\", \"invideo-filmr-video-editor\",\"mojo-reels-stories-maker\", \"video-star\", \"adobe-premiere-rush-edit-video\", \"movavi-clips-edit-video-editor\", \"powerdirector-video-editor\", \"wevideo-video-editor-maker\", \"kinemaster-video-editor-maker\", \"magisto-video-editor-maker\", \"picplaypost-video-editor\" , \"vita-video-editor-maker\", \"vsco-photo-video-editor\", \"alight-motion\"]\n",
        "apple_apps_id = [997362197, 409838725, 1500855883, 738897668, 1255135442, 1171358257, 1434861974, 438596432, 1188753863, 1226251139, 1473574597, 615796920, 1609369954, 486781045, 498127541, 1488430631, 588013838, 1459833443  ]\n",
        "\n",
        "#35\n",
        "apple_apps_n = ['stop-motion-studio-pro', 'mavis-pro-camera', 'filca-slr-film-camera', 'promovie-recorder', 'cute-cut-pro', 'pcam-pro-film-digital', 'ndi-hx-camera', 'artemis-pro', 'moviepro-pro-video-camera', 'cadrage-directors-viewfinder', 'beastcam-pro-camera', 'canva-design-photo-video', 'lightroom-photo-video-editor', 'facetune-ai-photo-video-editor', 'photoshop-express-photo-editor', 'lensa-ai-photo-video-editor', 'vixer-video-editor-maker', 'vn-video-editor', 'instories-reels-story-maker', 'bazaart-ai-photo-video-editor', 'vivacut-effect-video-editor', 'imovie', 'video-up-movie-maker-editor', 'filmora-video-editor-creator', 'b612-camera-photo-video-editor', 'funimate-video-motion-editor', 'slideshow-maker-photo-to-video', 'unfold-reels-story-editor', 'lightmv-video-maker', 'triller-social-videos-clips', 'kinemaster-video-editor-maker', 'reels-story-maker-temply', 'story-art-story-reels-maker', 'clay-story-templates-frames']\n",
        "apple_apps_id = [640564761, 979227459,1436429074, 1184204602, 618790117, 1308057201,1477266080,1164523253, 547101144, 793232740,1450650398,897446215, 878783582,1149994032, 331975235, 1436732536, 1487668791, 1343581380, 1454762989, 515094775, 1489090374, 377298193, 1585824635, 1019382747, 904209370, 844570015, 924826256, 1247275033, 1467699008, 994905763, 1609369954, 1538145481, 1176403575, 1469553582]\n",
        "\n",
        "#7\n",
        "apple_apps_n = ['adobe-premiere-rush-edit-video','mavis-pro-camera',\"prequel-ai-art-avatar-editor\",\"renderforest-intro-animation\",\"picsart-ai-photo-editor\",\"reel-maker\",\"reels-editor-maker-shox\"]\n",
        "apple_apps_id =  [1188753863, 979227459, 1325756279, 1488068233, 587366035, 1615270924, 1506182559]\n"
      ],
      "metadata": {
        "id": "gFIImun2rv36"
      },
      "execution_count": null,
      "outputs": []
    },
    {
      "cell_type": "markdown",
      "source": [
        "### INFO FOR EACH APP"
      ],
      "metadata": {
        "id": "MEf3llEJQ3GN"
      }
    },
    {
      "cell_type": "code",
      "source": [
        "import requests\n",
        "import pprint\n",
        "from bs4 import BeautifulSoup\n",
        "from lxml import html\n",
        "import pandas as pd\n",
        "from time import sleep\n",
        "import random\n",
        "user_agents_list = [\n",
        "    'Mozilla/5.0 (iPad; CPU OS 12_2 like Mac OS X) AppleWebKit/605.1.15 (KHTML, like Gecko) Mobile/15E148',\n",
        "    'Mozilla/5.0 (Macintosh; Intel Mac OS X 10_15_7) AppleWebKit/537.36 (KHTML, like Gecko) Chrome/99.0.4844.83 Safari/537.36',\n",
        "    'Mozilla/5.0 (Windows NT 10.0; Win64; x64) AppleWebKit/537.36 (KHTML, like Gecko) Chrome/99.0.4844.51 Safari/537.36'\n",
        "]"
      ],
      "metadata": {
        "id": "uxkmqyYyy6-_"
      },
      "execution_count": null,
      "outputs": []
    },
    {
      "cell_type": "code",
      "source": [
        "ratings = []\n",
        "score_y = []\n",
        "price = []\n",
        "size = []\n",
        "\n",
        "for i,j in zip(apple_apps_n, apple_apps_id):\n",
        "  URL = \"https://apps.apple.com/us/app/\" + str(i)\n",
        "  page= requests.get(URL) #,  headers = {'User-Agent': random.choice(user_agents_list)})\n",
        "  soup = BeautifulSoup(page.content, \"html.parser\")\n",
        "  try:\n",
        "    rating_element = soup.find(\"div\", class_=\"we-customer-ratings__count small-hide medium-show\")\n",
        "    extracted_rating = rating_element.get_text()\n",
        "    ratings.append(extracted_rating)\n",
        "    score =  soup.find(\"span\", class_=\"we-customer-ratings__averages__display\")\n",
        "    extracted_score = score.get_text()\n",
        "    score_y.append(extracted_score)\n",
        "    info_div = soup.find('dl', {'class': 'information-list information-list--app medium-columns l-row'})\n",
        "    info_items = info_div.find_all('dd', {'class': 'information-list__item__definition'})\n",
        "    for item in info_items:\n",
        "        text = item.get_text().strip()\n",
        "        if 'MB' in text or 'GB' in text:\n",
        "            size.append(text)\n",
        "        if '$' in text or 'Free' in text:\n",
        "            price.append(text)\n",
        "            break\n",
        "  except:\n",
        "    ratings.append(str(i))\n",
        "    score_y.append(str(i))\n",
        "    size.append(str(i))\n",
        "    price.append(str(i))\n",
        "  print(ratings)\n",
        "  print(score_y)\n",
        "  print(price)\n",
        "  print(size)\n",
        "  sleep(15)"
      ],
      "metadata": {
        "id": "NX_Q9ie2y9Bd"
      },
      "execution_count": null,
      "outputs": []
    },
    {
      "cell_type": "code",
      "source": [
        "ratings_d = ['240.9K Ratings', '105.8K Ratings', '12.7K Ratings', '1.6K Ratings', '36.3K Ratings', '54 Ratings', '2.9K Ratings', '582 Ratings', '132 Ratings', '6.6K Ratings', '660.5K Ratings', '13.5K Ratings', '1.8K Ratings', '394 Ratings', '1.8M Ratings', '402 Ratings', '107.3K Ratings', '56 Ratings', '93.6K Ratings', '10.9K Ratings', '11.6K Ratings', '121.7K Ratings', '8.9K Ratings', '209K Ratings', '8.7K Ratings', '221.5K Ratings', '2.1K Ratings', '84.8K Ratings', '269K Ratings', '2.2K Ratings', '61.5K Ratings', '6.7K Ratings', '91.2K Ratings', '2.9K Ratings', '176.1K Ratings', '2.7K Ratings', '154K Ratings', '160K Ratings', '1.7K Ratings', '171 Ratings', '346.2K Ratings', '1.4K Ratings', '193 Ratings', '677.8K Ratings', '28.3K Ratings', '27.9K Ratings', '19.6K Ratings', '12.3K Ratings', '105 Ratings', '87.4K Ratings', '51 Ratings', '147.6K Ratings', '1M Ratings', '96.7K Ratings', '59.8K Ratings', '2K Ratings', '196K Ratings', '111.9K Ratings', '48.1K Ratings', '299.4K Ratings']\n",
        "score_y_d = ['4.6', '4.6', '4.7', '4.8', '4.6', '3.4', '4.7', '4.4', '3.2', '4.6', '4.7', '4.9', '4.7', '4.8', '4.9', '4.4', '4.6', '3.6', '4.9', '4.7', '4.7', '4.6', '4.7', '4.8', '4.3', '4.7', '4.7', '4.1', '4.8', '3.9', '4.7', '4.5', '4.8', '4.5', '4.6', '4.8', '4.9', '4.5', '4.8', '5.0', '4.6', '4.4', '4.6', '4.8', '4.3', '4.8', '4.6', '4.4', '4.2', '4.6', '3.1', '4.8', '4.7', '4.2', '4.8', '4.8', '4.8', '3.9', '4.7', '4.8']\n",
        "price_d = ['Free', 'Free', 'Free', 'Free', 'Free', 'Free', '$0.99', '$5.99', '$19.99', 'Free', 'Free', 'Free', 'Free', 'Free', 'Free', 'Free', 'Free', '$29.99', 'Free', 'Free', 'Free', 'Free', '$5.99', 'Free', 'Free', 'Free', 'Free', 'Free', 'Free', '$3.99', 'Free', 'Free', 'Free', 'Free', 'Free', 'Free', 'Free', 'Free', 'Free', '$29.99', 'Free', '$7.99', '$19.99', 'Free', 'Free', 'Free', 'Free', '$9.99', '$1.99', 'Free', 'Free', 'Free', 'Free', 'Free', 'Free', 'Free', 'Free', 'Free', 'Free', 'Free']\n",
        "size_d = ['468.2 MB', '269.9 MB', '143.7 MB', '105.6 MB', '59.7 MB', '167.2 MB', '4.4 MB', '17.4 MB', '4.2 MB', '196 MB', '366.1 MB', '58.5 MB', '95.8 MB', '155.7 MB', '164.9 MB', '674.2 MB', '583.5 MB', '208 MB', '453.4 MB', '115 MB', '131.3 MB', '153.3 MB', '175.9 MB', '320.5 MB', '148.4 MB', '155.6 MB', '62.3 MB', '262.8 MB', '242.4 MB', '150.9 MB', '316.4 MB', '341.1 MB', '135 MB', '130 MB', '151.8 MB', '236.5 MB', '288.9 MB', '226 MB', '43.7 MB', '141.5 MB', '226.5 MB', '59.6 MB', '29.3 MB', '320.1 MB', '171.8 MB', '255.7 MB', '219.6 MB', '180.9 MB', '28.8 MB', '306 MB', '124 MB', '411.6 MB', '207.4 MB', '356.5 MB', '193.6 MB', '224.1 MB', '95.5 MB', '594.4 MB', '151.4 MB', '292.2 MB']\n"
      ],
      "metadata": {
        "id": "otxS8dVIz7T2"
      },
      "execution_count": null,
      "outputs": []
    },
    {
      "cell_type": "markdown",
      "source": [
        "### DATA MANIPULATION"
      ],
      "metadata": {
        "id": "brS35KUmQ71h"
      }
    },
    {
      "cell_type": "code",
      "source": [
        "#trasform number of ratings in float\n",
        "ratings = []\n",
        "for i in ratings_d:\n",
        "  if i[-9] == \"K\":\n",
        "    i = float(i[0:-9])*1000\n",
        "    ratings.append(i)\n",
        "  elif i[-9] == \"M\":\n",
        "    i = float(i[0:-9])*1000000\n",
        "    ratings.append(i)\n",
        "  else:\n",
        "    i = float(i[0:-8])\n",
        "    ratings.append(i)"
      ],
      "metadata": {
        "id": "eqfBLmxA0Trh"
      },
      "execution_count": null,
      "outputs": []
    },
    {
      "cell_type": "code",
      "source": [
        "#trasform price in float\n",
        "price = []\n",
        "for i in price_d:\n",
        "  if i ==\"Free\":\n",
        "    price.append(0)\n",
        "  else:\n",
        "    price.append(float(i[1:]))"
      ],
      "metadata": {
        "id": "A_nt3Ezx0f5O"
      },
      "execution_count": null,
      "outputs": []
    },
    {
      "cell_type": "code",
      "source": [
        "#trasform size in float\n",
        "size= []\n",
        "for i in size_d:\n",
        "  if i[-2:] == \"MB\":\n",
        "    size.append(float(i[:-2]))"
      ],
      "metadata": {
        "id": "g1vLEqwv0mXu"
      },
      "execution_count": null,
      "outputs": []
    },
    {
      "cell_type": "code",
      "source": [
        "apple_info = pd.DataFrame(list(zip(ratings, score_y, price, size, f)), columns =[\"ratings\", \"score_y\", \"price\", \"size\", \"app_name\"])"
      ],
      "metadata": {
        "id": "zQXioN4p0xn4"
      },
      "execution_count": null,
      "outputs": []
    },
    {
      "cell_type": "code",
      "source": [
        "from google.colab import files\n",
        "apple_info.to_csv('apple_info.csv', index=None, header=True)\n",
        "files.download('apple_info.csv')"
      ],
      "metadata": {
        "id": "FQ2cJM3N07yG"
      },
      "execution_count": null,
      "outputs": []
    },
    {
      "cell_type": "markdown",
      "source": [
        "### REVIEWS FOR EACH APP\n",
        "Unfortunately to scrape from the App Store is not possible to use a loop so I there is the need for a cell for each app."
      ],
      "metadata": {
        "id": "tKf3DUneRLp3"
      }
    },
    {
      "cell_type": "code",
      "source": [
        "a = AppStore(country=\"us\", app_name = apple_apps_n[0], app_id = apple_apps_id[0] )\n",
        "a.review(how_many=200)\n"
      ],
      "metadata": {
        "id": "wTp1vq6jucmK"
      },
      "execution_count": null,
      "outputs": []
    },
    {
      "cell_type": "code",
      "source": [
        "df_reviews = pd.DataFrame(np.array(a.reviews), columns = [\"reviews\"])\n",
        "df_reviews = df_reviews.join(pd.DataFrame(df_reviews.pop(\"reviews\").tolist()))\n",
        "df_reviews[\"app_name\"] = apple_apps_n[0]\n",
        "len(df_reviews)"
      ],
      "metadata": {
        "id": "6DIoelPBrtF_"
      },
      "execution_count": null,
      "outputs": []
    },
    {
      "cell_type": "code",
      "source": [
        "a = AppStore(country=\"us\", app_name = apple_apps_n[1], app_id = apple_apps_id[1])\n",
        "a.review(how_many=200)\n",
        "df_reviews0 = pd.DataFrame(np.array(a.reviews), columns = [\"reviews\"])\n",
        "df_reviews0 = df_reviews0.join(pd.DataFrame(df_reviews0.pop(\"reviews\").tolist()))\n",
        "df_reviews0[\"app_name\"] = apple_apps_n[1]\n",
        "df_reviews = df_reviews.append(df_reviews0, ignore_index=True)\n",
        "len(df_reviews)"
      ],
      "metadata": {
        "id": "2Qc60lD-saaz"
      },
      "execution_count": null,
      "outputs": []
    },
    {
      "cell_type": "code",
      "source": [
        "a = AppStore(country=\"us\", app_name = apple_apps_n[2], app_id = apple_apps_id[2])\n",
        "a.review(how_many=200)\n",
        "df_reviews0 = pd.DataFrame(np.array(a.reviews), columns = [\"reviews\"])\n",
        "df_reviews0 = df_reviews0.join(pd.DataFrame(df_reviews0.pop(\"reviews\").tolist()))\n",
        "df_reviews0[\"app_name\"] = apple_apps_n[2]\n",
        "df_reviews = df_reviews.append(df_reviews0, ignore_index=True)\n",
        "len(df_reviews)"
      ],
      "metadata": {
        "id": "_CVSXbs8s4r3"
      },
      "execution_count": null,
      "outputs": []
    },
    {
      "cell_type": "code",
      "source": [
        "a = AppStore(country=\"us\", app_name = apple_apps_n[3], app_id = apple_apps_id[3])\n",
        "a.review(how_many=200)\n",
        "df_reviews0 = pd.DataFrame(np.array(a.reviews), columns = [\"reviews\"])\n",
        "df_reviews0 = df_reviews0.join(pd.DataFrame(df_reviews0.pop(\"reviews\").tolist()))\n",
        "df_reviews0[\"app_name\"] = apple_apps_n[3]\n",
        "df_reviews = df_reviews.append(df_reviews0, ignore_index=True)\n",
        "len(df_reviews)"
      ],
      "metadata": {
        "id": "ewsL2t87taRF"
      },
      "execution_count": null,
      "outputs": []
    },
    {
      "cell_type": "code",
      "source": [
        "a = AppStore(country=\"us\", app_name = apple_apps_n[4], app_id = apple_apps_id[4])\n",
        "a.review(how_many=200)\n",
        "df_reviews0 = pd.DataFrame(np.array(a.reviews), columns = [\"reviews\"])\n",
        "df_reviews0 = df_reviews0.join(pd.DataFrame(df_reviews0.pop(\"reviews\").tolist()))\n",
        "df_reviews0[\"app_name\"] = apple_apps_n[4]\n",
        "df_reviews = df_reviews.append(df_reviews0, ignore_index=True)\n",
        "len(df_reviews)"
      ],
      "metadata": {
        "id": "jSHQLBQltaa3"
      },
      "execution_count": null,
      "outputs": []
    },
    {
      "cell_type": "code",
      "source": [
        "a = AppStore(country=\"us\", app_name = apple_apps_n[5], app_id = apple_apps_id[5])\n",
        "a.review(how_many=200)\n",
        "df_reviews0 = pd.DataFrame(np.array(a.reviews), columns = [\"reviews\"])\n",
        "df_reviews0 = df_reviews0.join(pd.DataFrame(df_reviews0.pop(\"reviews\").tolist()))\n",
        "df_reviews0[\"app_name\"] = apple_apps_n[5]\n",
        "df_reviews = df_reviews.append(df_reviews0, ignore_index=True)\n",
        "len(df_reviews)"
      ],
      "metadata": {
        "id": "1VZ-MUrDtagD"
      },
      "execution_count": null,
      "outputs": []
    },
    {
      "cell_type": "code",
      "source": [
        "a = AppStore(country=\"us\", app_name = apple_apps_n[6], app_id = apple_apps_id[6])\n",
        "a.review(how_many=200)\n",
        "df_reviews0 = pd.DataFrame(np.array(a.reviews), columns = [\"reviews\"])\n",
        "df_reviews0 = df_reviews0.join(pd.DataFrame(df_reviews0.pop(\"reviews\").tolist()))\n",
        "df_reviews0[\"app_name\"] = apple_apps_n[6]\n",
        "df_reviews = df_reviews.append(df_reviews0, ignore_index=True)\n",
        "len(df_reviews)"
      ],
      "metadata": {
        "id": "RHjfT_67tajS"
      },
      "execution_count": null,
      "outputs": []
    },
    {
      "cell_type": "code",
      "source": [
        "a = AppStore(country=\"us\", app_name = apple_apps_n[7], app_id = apple_apps_id[7])\n",
        "a.review(how_many=200)\n",
        "df_reviews0 = pd.DataFrame(np.array(a.reviews), columns = [\"reviews\"])\n",
        "df_reviews0 = df_reviews0.join(pd.DataFrame(df_reviews0.pop(\"reviews\").tolist()))\n",
        "df_reviews0[\"app_name\"] = apple_apps_n[7]\n",
        "df_reviews = df_reviews.append(df_reviews0, ignore_index=True)\n",
        "len(df_reviews)"
      ],
      "metadata": {
        "id": "sr6pLQqLtamd"
      },
      "execution_count": null,
      "outputs": []
    },
    {
      "cell_type": "code",
      "source": [
        "a = AppStore(country=\"us\", app_name = apple_apps_n[8], app_id = apple_apps_id[8])\n",
        "a.review(how_many=200)\n",
        "df_reviews0 = pd.DataFrame(np.array(a.reviews), columns = [\"reviews\"])\n",
        "df_reviews0 = df_reviews0.join(pd.DataFrame(df_reviews0.pop(\"reviews\").tolist()))\n",
        "df_reviews0[\"app_name\"] = apple_apps_n[8]\n",
        "df_reviews = df_reviews.append(df_reviews0, ignore_index=True)\n",
        "len(df_reviews)"
      ],
      "metadata": {
        "id": "3aQmnOhftapk"
      },
      "execution_count": null,
      "outputs": []
    },
    {
      "cell_type": "code",
      "source": [
        "a = AppStore(country=\"us\", app_name = apple_apps_n[9], app_id = apple_apps_id[9])\n",
        "a.review(how_many=200)\n",
        "df_reviews0 = pd.DataFrame(np.array(a.reviews), columns = [\"reviews\"])\n",
        "df_reviews0 = df_reviews0.join(pd.DataFrame(df_reviews0.pop(\"reviews\").tolist()))\n",
        "df_reviews0[\"app_name\"] = apple_apps_n[9]\n",
        "df_reviews = df_reviews.append(df_reviews0, ignore_index=True)\n",
        "len(df_reviews)"
      ],
      "metadata": {
        "id": "0th7268dtau8"
      },
      "execution_count": null,
      "outputs": []
    },
    {
      "cell_type": "code",
      "source": [
        "a = AppStore(country=\"us\", app_name = apple_apps_n[10], app_id = apple_apps_id[10])\n",
        "a.review(how_many=200)\n",
        "df_reviews0 = pd.DataFrame(np.array(a.reviews), columns = [\"reviews\"])\n",
        "df_reviews0 = df_reviews0.join(pd.DataFrame(df_reviews0.pop(\"reviews\").tolist()))\n",
        "df_reviews0[\"app_name\"] = apple_apps_n[10]\n",
        "df_reviews = df_reviews.append(df_reviews0, ignore_index=True)\n",
        "len(df_reviews)"
      ],
      "metadata": {
        "id": "0loA2wKqt5nG"
      },
      "execution_count": null,
      "outputs": []
    },
    {
      "cell_type": "code",
      "source": [
        "a = AppStore(country=\"us\", app_name = apple_apps_n[11], app_id = apple_apps_id[11])\n",
        "a.review(how_many=200)\n",
        "df_reviews0 = pd.DataFrame(np.array(a.reviews), columns = [\"reviews\"])\n",
        "df_reviews0 = df_reviews0.join(pd.DataFrame(df_reviews0.pop(\"reviews\").tolist()))\n",
        "df_reviews0[\"app_name\"] = apple_apps_n[11]\n",
        "df_reviews = df_reviews.append(df_reviews0, ignore_index=True)\n",
        "len(df_reviews)"
      ],
      "metadata": {
        "id": "fbwRs1k-t5r9"
      },
      "execution_count": null,
      "outputs": []
    },
    {
      "cell_type": "code",
      "source": [
        "a = AppStore(country=\"us\", app_name = apple_apps_n[12], app_id = apple_apps_id[12])\n",
        "a.review(how_many=200)\n",
        "df_reviews0 = pd.DataFrame(np.array(a.reviews), columns = [\"reviews\"])\n",
        "df_reviews0 = df_reviews0.join(pd.DataFrame(df_reviews0.pop(\"reviews\").tolist()))\n",
        "df_reviews0[\"app_name\"] = apple_apps_n[12]\n",
        "df_reviews = df_reviews.append(df_reviews0, ignore_index=True)\n",
        "len(df_reviews)"
      ],
      "metadata": {
        "id": "jwdfMEBJt5wG"
      },
      "execution_count": null,
      "outputs": []
    },
    {
      "cell_type": "code",
      "source": [
        "a = AppStore(country=\"us\", app_name = apple_apps_n[13], app_id = apple_apps_id[13])\n",
        "a.review(how_many=200)\n",
        "df_reviews0 = pd.DataFrame(np.array(a.reviews), columns = [\"reviews\"])\n",
        "df_reviews0 = df_reviews0.join(pd.DataFrame(df_reviews0.pop(\"reviews\").tolist()))\n",
        "df_reviews0[\"app_name\"] = apple_apps_n[13]\n",
        "df_reviews = df_reviews.append(df_reviews0, ignore_index=True)\n",
        "len(df_reviews)"
      ],
      "metadata": {
        "id": "37cKUXeOt5zg"
      },
      "execution_count": null,
      "outputs": []
    },
    {
      "cell_type": "code",
      "source": [
        "a = AppStore(country=\"us\", app_name = apple_apps_n[14], app_id = apple_apps_id[14])\n",
        "a.review(how_many=200)\n",
        "df_reviews0 = pd.DataFrame(np.array(a.reviews), columns = [\"reviews\"])\n",
        "df_reviews0 = df_reviews0.join(pd.DataFrame(df_reviews0.pop(\"reviews\").tolist()))\n",
        "df_reviews0[\"app_name\"] = apple_apps_n[14]\n",
        "df_reviews = df_reviews.append(df_reviews0, ignore_index=True)\n",
        "len(df_reviews)"
      ],
      "metadata": {
        "id": "hG4BOoMit53L"
      },
      "execution_count": null,
      "outputs": []
    },
    {
      "cell_type": "code",
      "source": [
        "a = AppStore(country=\"us\", app_name = apple_apps_n[15], app_id = apple_apps_id[15])\n",
        "a.review(how_many=200)\n",
        "df_reviews0 = pd.DataFrame(np.array(a.reviews), columns = [\"reviews\"])\n",
        "df_reviews0 = df_reviews0.join(pd.DataFrame(df_reviews0.pop(\"reviews\").tolist()))\n",
        "df_reviews0[\"app_name\"] = apple_apps_n[15]\n",
        "df_reviews = df_reviews.append(df_reviews0, ignore_index=True)\n",
        "len(df_reviews)"
      ],
      "metadata": {
        "id": "dH6vXY1Ut56m"
      },
      "execution_count": null,
      "outputs": []
    },
    {
      "cell_type": "code",
      "source": [
        "a = AppStore(country=\"us\", app_name = apple_apps_n[16], app_id = apple_apps_id[16])\n",
        "a.review(how_many=200)\n",
        "df_reviews0 = pd.DataFrame(np.array(a.reviews), columns = [\"reviews\"])\n",
        "df_reviews0 = df_reviews0.join(pd.DataFrame(df_reviews0.pop(\"reviews\").tolist()))\n",
        "df_reviews0[\"app_name\"] = apple_apps_n[16]\n",
        "df_reviews = df_reviews.append(df_reviews0, ignore_index=True)\n",
        "len(df_reviews)"
      ],
      "metadata": {
        "id": "B7pDRDaat597"
      },
      "execution_count": null,
      "outputs": []
    },
    {
      "cell_type": "code",
      "source": [
        "a = AppStore(country=\"us\", app_name = apple_apps_n[17], app_id = apple_apps_id[17])\n",
        "a.review(how_many=200)\n",
        "df_reviews0 = pd.DataFrame(np.array(a.reviews), columns = [\"reviews\"])\n",
        "df_reviews0 = df_reviews0.join(pd.DataFrame(df_reviews0.pop(\"reviews\").tolist()))\n",
        "df_reviews0[\"app_name\"] = apple_apps_n[17]\n",
        "df_reviews = df_reviews.append(df_reviews0, ignore_index=True)\n",
        "len(df_reviews)"
      ],
      "metadata": {
        "id": "1p4bXZknt6DF"
      },
      "execution_count": null,
      "outputs": []
    },
    {
      "cell_type": "code",
      "source": [
        "a = AppStore(country=\"us\", app_name = apple_apps_n[18], app_id = apple_apps_id[18])\n",
        "a.review(how_many=200)\n",
        "df_reviews0 = pd.DataFrame(np.array(a.reviews), columns = [\"reviews\"])\n",
        "df_reviews0 = df_reviews0.join(pd.DataFrame(df_reviews0.pop(\"reviews\").tolist()))\n",
        "df_reviews0[\"app_name\"] = apple_apps_n[18]\n",
        "df_reviews = df_reviews.append(df_reviews0, ignore_index=True)\n",
        "len(df_reviews)"
      ],
      "metadata": {
        "id": "cCDf5qS25eka"
      },
      "execution_count": null,
      "outputs": []
    },
    {
      "cell_type": "code",
      "source": [
        "a = AppStore(country=\"us\", app_name = apple_apps_n[19], app_id = apple_apps_id[19])\n",
        "a.review(how_many=200)\n",
        "df_reviews0 = pd.DataFrame(np.array(a.reviews), columns = [\"reviews\"])\n",
        "df_reviews0 = df_reviews0.join(pd.DataFrame(df_reviews0.pop(\"reviews\").tolist()))\n",
        "df_reviews0[\"app_name\"] = apple_apps_n[19]\n",
        "df_reviews = df_reviews.append(df_reviews0, ignore_index=True)\n",
        "len(df_reviews)"
      ],
      "metadata": {
        "id": "ReyHgU7J5euK"
      },
      "execution_count": null,
      "outputs": []
    },
    {
      "cell_type": "code",
      "source": [
        "a = AppStore(country=\"us\", app_name = apple_apps_n[20], app_id = apple_apps_id[20])\n",
        "a.review(how_many=200)\n",
        "df_reviews0 = pd.DataFrame(np.array(a.reviews), columns = [\"reviews\"])\n",
        "df_reviews0 = df_reviews0.join(pd.DataFrame(df_reviews0.pop(\"reviews\").tolist()))\n",
        "df_reviews0[\"app_name\"] = apple_apps_n[20]\n",
        "df_reviews = df_reviews.append(df_reviews0, ignore_index=True)\n",
        "len(df_reviews)"
      ],
      "metadata": {
        "id": "NAvAFN4B5e05"
      },
      "execution_count": null,
      "outputs": []
    },
    {
      "cell_type": "code",
      "source": [
        "a = AppStore(country=\"us\", app_name = apple_apps_n[21], app_id = apple_apps_id[21])\n",
        "a.review(how_many=200)\n",
        "df_reviews0 = pd.DataFrame(np.array(a.reviews), columns = [\"reviews\"])\n",
        "df_reviews0 = df_reviews0.join(pd.DataFrame(df_reviews0.pop(\"reviews\").tolist()))\n",
        "df_reviews0[\"app_name\"] = apple_apps_n[21]\n",
        "df_reviews = df_reviews.append(df_reviews0, ignore_index=True)\n",
        "len(df_reviews)"
      ],
      "metadata": {
        "id": "EouoGNOx5e6s"
      },
      "execution_count": null,
      "outputs": []
    },
    {
      "cell_type": "code",
      "source": [
        "a = AppStore(country=\"us\", app_name = apple_apps_n[22], app_id = apple_apps_id[22])\n",
        "a.review(how_many=200)\n",
        "df_reviews0 = pd.DataFrame(np.array(a.reviews), columns = [\"reviews\"])\n",
        "df_reviews0 = df_reviews0.join(pd.DataFrame(df_reviews0.pop(\"reviews\").tolist()))\n",
        "df_reviews0[\"app_name\"] = apple_apps_n[22]\n",
        "df_reviews = df_reviews.append(df_reviews0, ignore_index=True)\n",
        "len(df_reviews)"
      ],
      "metadata": {
        "id": "cpTUX_ml5e_a"
      },
      "execution_count": null,
      "outputs": []
    },
    {
      "cell_type": "code",
      "source": [
        "a = AppStore(country=\"us\", app_name = apple_apps_n[23], app_id = apple_apps_id[23])\n",
        "a.review(how_many=200)\n",
        "df_reviews0 = pd.DataFrame(np.array(a.reviews), columns = [\"reviews\"])\n",
        "df_reviews0 = df_reviews0.join(pd.DataFrame(df_reviews0.pop(\"reviews\").tolist()))\n",
        "df_reviews0[\"app_name\"] = apple_apps_n[23]\n",
        "df_reviews = df_reviews.append(df_reviews0, ignore_index=True)\n",
        "len(df_reviews)"
      ],
      "metadata": {
        "id": "4CkpUYoo5fDg"
      },
      "execution_count": null,
      "outputs": []
    },
    {
      "cell_type": "code",
      "source": [
        "a = AppStore(country=\"us\", app_name = apple_apps_n[24], app_id = apple_apps_id[24])\n",
        "a.review(how_many=200)\n",
        "df_reviews0 = pd.DataFrame(np.array(a.reviews), columns = [\"reviews\"])\n",
        "df_reviews0 = df_reviews0.join(pd.DataFrame(df_reviews0.pop(\"reviews\").tolist()))\n",
        "df_reviews0[\"app_name\"] = apple_apps_n[24]\n",
        "df_reviews = df_reviews.append(df_reviews0, ignore_index=True)\n",
        "len(df_reviews)"
      ],
      "metadata": {
        "id": "clZnio-b5fHa"
      },
      "execution_count": null,
      "outputs": []
    },
    {
      "cell_type": "code",
      "source": [
        "a = AppStore(country=\"us\", app_name = apple_apps_n[25], app_id = apple_apps_id[25])\n",
        "a.review(how_many=200)\n",
        "df_reviews0 = pd.DataFrame(np.array(a.reviews), columns = [\"reviews\"])\n",
        "df_reviews0 = df_reviews0.join(pd.DataFrame(df_reviews0.pop(\"reviews\").tolist()))\n",
        "df_reviews0[\"app_name\"] = apple_apps_n[25]\n",
        "df_reviews = df_reviews.append(df_reviews0, ignore_index=True)\n",
        "len(df_reviews)"
      ],
      "metadata": {
        "id": "8ORvRUif5fLn"
      },
      "execution_count": null,
      "outputs": []
    },
    {
      "cell_type": "code",
      "source": [
        "a = AppStore(country=\"us\", app_name = apple_apps_n[26], app_id = apple_apps_id[26])\n",
        "a.review(how_many=200)\n",
        "df_reviews0 = pd.DataFrame(np.array(a.reviews), columns = [\"reviews\"])\n",
        "df_reviews0 = df_reviews0.join(pd.DataFrame(df_reviews0.pop(\"reviews\").tolist()))\n",
        "df_reviews0[\"app_name\"] = apple_apps_n[26]\n",
        "df_reviews = df_reviews.append(df_reviews0, ignore_index=True)\n",
        "len(df_reviews)"
      ],
      "metadata": {
        "id": "Vd3b7djd5fPw"
      },
      "execution_count": null,
      "outputs": []
    },
    {
      "cell_type": "code",
      "source": [
        "a = AppStore(country=\"us\", app_name = apple_apps_n[27], app_id = apple_apps_id[27])\n",
        "a.review(how_many=200)\n",
        "df_reviews0 = pd.DataFrame(np.array(a.reviews), columns = [\"reviews\"])\n",
        "df_reviews0 = df_reviews0.join(pd.DataFrame(df_reviews0.pop(\"reviews\").tolist()))\n",
        "df_reviews0[\"app_name\"] = apple_apps_n[27]\n",
        "df_reviews = df_reviews.append(df_reviews0, ignore_index=True)\n",
        "len(df_reviews)"
      ],
      "metadata": {
        "id": "ljsp-vae5fTb"
      },
      "execution_count": null,
      "outputs": []
    },
    {
      "cell_type": "code",
      "source": [
        "a = AppStore(country=\"us\", app_name = apple_apps_n[28], app_id = apple_apps_id[28])\n",
        "a.review(how_many=200)\n",
        "df_reviews0 = pd.DataFrame(np.array(a.reviews), columns = [\"reviews\"])\n",
        "df_reviews0 = df_reviews0.join(pd.DataFrame(df_reviews0.pop(\"reviews\").tolist()))\n",
        "df_reviews0[\"app_name\"] = apple_apps_n[28]\n",
        "df_reviews = df_reviews.append(df_reviews0, ignore_index=True)\n",
        "len(df_reviews)"
      ],
      "metadata": {
        "id": "ICGw0xTQ5fW5"
      },
      "execution_count": null,
      "outputs": []
    },
    {
      "cell_type": "code",
      "source": [
        "a = AppStore(country=\"us\", app_name = apple_apps_n[29], app_id = apple_apps_id[29])\n",
        "a.review(how_many=200)\n",
        "df_reviews0 = pd.DataFrame(np.array(a.reviews), columns = [\"reviews\"])\n",
        "df_reviews0 = df_reviews0.join(pd.DataFrame(df_reviews0.pop(\"reviews\").tolist()))\n",
        "df_reviews0[\"app_name\"] = apple_apps_n[29]\n",
        "df_reviews = df_reviews.append(df_reviews0, ignore_index=True)\n",
        "len(df_reviews)"
      ],
      "metadata": {
        "id": "JZXs5eUW5fao"
      },
      "execution_count": null,
      "outputs": []
    },
    {
      "cell_type": "code",
      "source": [
        "a = AppStore(country=\"us\", app_name = apple_apps_n[30], app_id = apple_apps_id[30])\n",
        "a.review(how_many=200)\n",
        "df_reviews0 = pd.DataFrame(np.array(a.reviews), columns = [\"reviews\"])\n",
        "df_reviews0 = df_reviews0.join(pd.DataFrame(df_reviews0.pop(\"reviews\").tolist()))\n",
        "df_reviews0[\"app_name\"] = apple_apps_n[30]\n",
        "df_reviews = df_reviews.append(df_reviews0, ignore_index=True)\n",
        "len(df_reviews)"
      ],
      "metadata": {
        "id": "ZgDTSJ5T5ffj"
      },
      "execution_count": null,
      "outputs": []
    },
    {
      "cell_type": "code",
      "source": [
        "a = AppStore(country=\"us\", app_name = apple_apps_n[31], app_id = apple_apps_id[31])\n",
        "a.review(how_many=200)\n",
        "df_reviews0 = pd.DataFrame(np.array(a.reviews), columns = [\"reviews\"])\n",
        "df_reviews0 = df_reviews0.join(pd.DataFrame(df_reviews0.pop(\"reviews\").tolist()))\n",
        "df_reviews0[\"app_name\"] = apple_apps_n[31]\n",
        "df_reviews = df_reviews.append(df_reviews0, ignore_index=True)\n",
        "len(df_reviews)"
      ],
      "metadata": {
        "id": "-m92RFXJ6CrU"
      },
      "execution_count": null,
      "outputs": []
    },
    {
      "cell_type": "code",
      "source": [
        "a = AppStore(country=\"us\", app_name = apple_apps_n[32], app_id = apple_apps_id[32])\n",
        "a.review(how_many=200)\n",
        "df_reviews0 = pd.DataFrame(np.array(a.reviews), columns = [\"reviews\"])\n",
        "df_reviews0 = df_reviews0.join(pd.DataFrame(df_reviews0.pop(\"reviews\").tolist()))\n",
        "df_reviews0[\"app_name\"] = apple_apps_n[32]\n",
        "df_reviews = df_reviews.append(df_reviews0, ignore_index=True)\n",
        "len(df_reviews)"
      ],
      "metadata": {
        "id": "D-l2DKsf6FL-"
      },
      "execution_count": null,
      "outputs": []
    },
    {
      "cell_type": "code",
      "source": [
        "a = AppStore(country=\"us\", app_name = apple_apps_n[33], app_id = apple_apps_id[33])\n",
        "a.review(how_many=200)\n",
        "df_reviews0 = pd.DataFrame(np.array(a.reviews), columns = [\"reviews\"])\n",
        "df_reviews0 = df_reviews0.join(pd.DataFrame(df_reviews0.pop(\"reviews\").tolist()))\n",
        "df_reviews0[\"app_name\"] = apple_apps_n[33]\n",
        "df_reviews = df_reviews.append(df_reviews0, ignore_index=True)\n",
        "len(df_reviews)"
      ],
      "metadata": {
        "id": "KfYIZQd46HZF"
      },
      "execution_count": null,
      "outputs": []
    },
    {
      "cell_type": "code",
      "source": [
        "a = AppStore(country=\"us\", app_name = apple_apps_n[34], app_id = apple_apps_id[34])\n",
        "a.review(how_many=200)\n",
        "df_reviews0 = pd.DataFrame(np.array(a.reviews), columns = [\"reviews\"])\n",
        "df_reviews0 = df_reviews0.join(pd.DataFrame(df_reviews0.pop(\"reviews\").tolist()))\n",
        "df_reviews0[\"app_name\"] = apple_apps_n[34]\n",
        "df_reviews = df_reviews.append(df_reviews0, ignore_index=True)\n",
        "len(df_reviews)"
      ],
      "metadata": {
        "id": "Ksg5N4SY6Jq2"
      },
      "execution_count": null,
      "outputs": []
    },
    {
      "cell_type": "code",
      "source": [
        "df_reviews[\"google_play\"]= 0"
      ],
      "metadata": {
        "id": "VgjCUEZzw0Gg"
      },
      "execution_count": null,
      "outputs": []
    },
    {
      "cell_type": "code",
      "source": [
        " from google.colab import files\n",
        " df_reviews.to_csv('app_reviews_34_200.csv', index=None, header=True) #app_reviews_18_200.csv #'apple_reviews_7_200.csv'\n",
        " files.download('app_reviews_34_200.csv')"
      ],
      "metadata": {
        "id": "gMl4yX7xtW5w"
      },
      "execution_count": null,
      "outputs": []
    },
    {
      "cell_type": "code",
      "source": [
        "a_tot2 = pd.merge(a_tot, apple_info, left_on = \"app_name\", right_on=\"app_name\")\n"
      ],
      "metadata": {
        "id": "A3WBI7RSy0sV"
      },
      "execution_count": null,
      "outputs": []
    },
    {
      "cell_type": "markdown",
      "source": [
        "## DATA MANIPULATION AND CLEANING"
      ],
      "metadata": {
        "id": "FcPqteeQu1Zm"
      }
    },
    {
      "cell_type": "code",
      "source": [
        "import numpy as np\n",
        "import pandas as pd\n",
        "import matplotlib.pyplot as plt\n",
        "import seaborn as sns\n",
        "import pandas_profiling\n",
        "import plotly.offline as po\n",
        "import plotly.graph_objs as go\n",
        "import sklearn\n",
        "%matplotlib inline"
      ],
      "metadata": {
        "id": "ENVYg_6_1n4r"
      },
      "execution_count": null,
      "outputs": []
    },
    {
      "cell_type": "code",
      "source": [
        "#dataset\n",
        "a_tot_partial = a_tot2.loc[:, ['at', 'replyContent', 'content', 'score_x', 'userName', 'app_name','google_play','ratings', 'score_y', 'price']]\n",
        "g_tot_partial = g_tot2.loc[:, ['at', 'replyContent', 'content', 'score_x', 'userName', 'app_name','google_play','ratings', 'score_y', 'price']]\n",
        "df_combined = pd.concat([g_tot_partial, a_tot_partial], axis=0)"
      ],
      "metadata": {
        "id": "rINvnZKiuz5-"
      },
      "execution_count": null,
      "outputs": []
    },
    {
      "cell_type": "code",
      "source": [
        "from google.colab import files\n",
        "df_combined.to_csv('df_combined_20000.csv', index=None, header=True)\n",
        "files.download('df_combined_20000.csv')"
      ],
      "metadata": {
        "id": "g0xy4vJ61gsa"
      },
      "execution_count": null,
      "outputs": []
    },
    {
      "cell_type": "code",
      "source": [
        "df_combined[\"score_y_round\"] = df_combined[\"score_y\"].round(1)\n",
        "a = pd.DataFrame(df_combined[\"score_y_round\"].value_counts())#.iloc[:30,:]\n",
        "a.sort_index()"
      ],
      "metadata": {
        "id": "Rzb10Ppc1lEZ"
      },
      "execution_count": null,
      "outputs": []
    },
    {
      "cell_type": "code",
      "source": [
        "dataset = dataset.drop(columns = [\"at\", \"userName\", \"app_name\",\"content\"]) #\"score_y_round\""
      ],
      "metadata": {
        "id": "djIntKDJ1m9K"
      },
      "execution_count": null,
      "outputs": []
    },
    {
      "cell_type": "code",
      "source": [
        "dataset['replyContent'] = dataset['replyContent'].fillna(0).ne(0).astype(int)"
      ],
      "metadata": {
        "id": "gt_gN7w015Vs"
      },
      "execution_count": null,
      "outputs": []
    },
    {
      "cell_type": "code",
      "source": [
        "app_names = df[\"app_name\"].unique()\n",
        "app_names = app_names.tolist()\n",
        "renames = [\"InShot\", \"Splice\",\"Capcut\",\"VivaVideo\",\"Videoleap\",\"InVideo\",\"Clips Maker\",\"Mojo\",\n",
        "          \"Video Star\",\"Adobe Premiere\",\"Movavi Clips\",\"Power Director\",\"Magistro\",\"PicPlayPost\",\n",
        "          \"Vita\",\"REMOVE\",\"Alight motion\",\"Stop MotionStudio Pro\",\"Canva\",\"Lightroom Photo & Video Editor\",\n",
        "           \"Facetune (free version)\",\"REMOVE\",\"Lensa\",\"VN Video Editor Maker VlogNow\",\"Instories\",\n",
        "           \"Bazaart\",\"Video Editor APP - VivaCut\",\"Filmora\",\"B612\",\"Funimate\",\"Unfold: Stories & Link in Bio\",\n",
        "           \"LightMV - Video Maker\",\"Cute Cut\",\"Glitch Video Effect: Glitch FX\",\"REMOVE\",\"Kinemaster\",\n",
        "           \"Mostory- Story Maker & Editor\",\"StoryArt - Insta story maker\",\"REMOVE\",\"Promeo - Story & Reels Maker\",\n",
        "           \"REMOVE\",\"Playsee: Social Video & Reels\",\"Story Cutter for Shorts, Reels\",\"VLLO - Intuitive Video Editor\",\n",
        "           \"REMOVE\",\"ActionDirector - Video Editing\",\"Picsart AI Photo Editor, Video\",\"InstaSize Photo Editor＋Resizer\",\n",
        "           \"PREQUEL AI Avatar Photo Filter\",\"Video Maker\",\"REMOVE\",\"VidStatus - Short Video Status\",\"Pinreel - Reels & Shorts Maker\",\n",
        "           \"REMOVE\",\"REMOVE\",\n",
        "           \"InShot\", \"Splice\",\"Capcut\",\"VivaVideo\",\"Videoleap\",\"InVideo\",\"Mojo\",\"Video Star\",\"Movavi Clips\",\n",
        "           \"Power Director\",\"WeVideo\",\"Kinemaster\",\"Magistro\",\"PicPlayPost\",\"Vita\",\"REMOVE\",\"Alight motion\",\n",
        "           \"Stop MotionStudio Pro\",\"REMOVE\",\"REMOVE\",\"Cute Cut\",\"REMOVE\",\"Canva\",\"Lightroom Photo & Video Editor\",\n",
        "            \"Facetune (free version)\",\"REMOVE\",\"Lensa\",\"Vixer – Video Editor & Maker\",\n",
        "           \"VN Video Editor Maker VlogNow\",\"Instories\",\"Bazaart\",\"Video Editor APP - VivaCut\",\"iMovie\",\n",
        "           \"Filmora\",\"B612\",\"Funimate\",\"REMOVE\",\"Unfold: Stories & Link in Bio\",\"REMOVE\",\"Temply\",\n",
        "           \"Clay\",'PREQUEL AI Avatar Photo Filter',\"REMOVE\",\"Picsart AI Photo Editor, Video\",\n",
        "           \"Reel Maker\",\"Shox\"\n",
        "          ]"
      ],
      "metadata": {
        "id": "HPE0xr5WPl1M"
      },
      "execution_count": null,
      "outputs": []
    },
    {
      "cell_type": "code",
      "source": [
        "rename = pd.DataFrame(list(zip(app_names, renames)),\n",
        "              columns=['orginal_name','rename'])\n",
        "rename.head()"
      ],
      "metadata": {
        "id": "_kRcCREqPuw4"
      },
      "execution_count": null,
      "outputs": []
    },
    {
      "cell_type": "markdown",
      "metadata": {
        "id": "f3cb4882"
      },
      "source": [
        "### Removing the apps that charge a price\n",
        "As we would like to study the importance of the tools inside the app, the price is a limit as we cannot download it and look inside it."
      ]
    },
    {
      "cell_type": "code",
      "execution_count": null,
      "metadata": {
        "id": "a85a4845"
      },
      "outputs": [],
      "source": [
        "df = df[df['app_name'] != \"REMOVE\"]\n",
        "df.reset_index(inplace = True)"
      ]
    },
    {
      "cell_type": "code",
      "execution_count": null,
      "metadata": {
        "id": "151df188"
      },
      "outputs": [],
      "source": [
        "df.drop('index', axis = 1, inplace=True)\n",
        "df.head()"
      ]
    },
    {
      "cell_type": "code",
      "source": [],
      "metadata": {
        "id": "ZnNrMRHnQP7-"
      },
      "execution_count": null,
      "outputs": []
    },
    {
      "cell_type": "markdown",
      "source": [
        "### Creating the dataset with the feature manually mapped\n"
      ],
      "metadata": {
        "id": "yf0Q1LfxQS4p"
      }
    },
    {
      "cell_type": "code",
      "execution_count": null,
      "metadata": {
        "id": "b8d326aa"
      },
      "outputs": [],
      "source": [
        "feat = pd.read_csv(\"Features.csv\", header = 1)"
      ]
    },
    {
      "cell_type": "code",
      "execution_count": null,
      "metadata": {
        "id": "b3691c2f"
      },
      "outputs": [],
      "source": [
        "feat.head()"
      ]
    },
    {
      "cell_type": "code",
      "execution_count": null,
      "metadata": {
        "id": "16ee00b3"
      },
      "outputs": [],
      "source": [
        "#selecting the features\n",
        "feat = feat.iloc[:53,:-2]"
      ]
    },
    {
      "cell_type": "code",
      "execution_count": null,
      "metadata": {
        "id": "b4d18e71"
      },
      "outputs": [],
      "source": [
        "# mapping Yes -->1, No --> 0\n",
        "feat.iloc[:,1:] = feat.iloc[:, 1:].eq('Yes').mul(1)"
      ]
    },
    {
      "cell_type": "code",
      "execution_count": null,
      "metadata": {
        "id": "979446b5"
      },
      "outputs": [],
      "source": [
        "feat.head()"
      ]
    },
    {
      "cell_type": "markdown",
      "metadata": {
        "id": "6f48ce74"
      },
      "source": [
        "### Merging the Dataframes"
      ]
    },
    {
      "cell_type": "code",
      "execution_count": null,
      "metadata": {
        "id": "597a94f4"
      },
      "outputs": [],
      "source": [
        "final = df.merge(feat, how = \"left\", left_on = \"app_name\", right_on = \"app_name\")\n",
        "final.head()"
      ]
    },
    {
      "cell_type": "code",
      "execution_count": null,
      "metadata": {
        "id": "e1e4b98c"
      },
      "outputs": [],
      "source": [
        "#Saving the new data frame\n",
        "final.to_csv(\"final.csv\")"
      ]
    },
    {
      "cell_type": "code",
      "source": [
        "df['score_x_dummy'] = dataset['score_x'].apply(lambda x: 1 if x > 3 else 0)  #after uploading the complete dataset"
      ],
      "metadata": {
        "id": "HM2g6STBV4Ya"
      },
      "execution_count": null,
      "outputs": []
    },
    {
      "cell_type": "code",
      "source": [
        "df2 = df.drop_duplicates(subset=[\"app_name_x\", \"google_play\", \"ratings\", \"score_y\", \"price\",\"size1\"], keep='first')\n",
        "df.head(5)"
      ],
      "metadata": {
        "id": "Rbbo8jreU9uj"
      },
      "execution_count": null,
      "outputs": []
    },
    {
      "cell_type": "code",
      "source": [
        "df2['score*ratings'] = df2['score_y']*df2['ratings']"
      ],
      "metadata": {
        "id": "mofGzigCU12M"
      },
      "execution_count": null,
      "outputs": []
    }
  ]
}